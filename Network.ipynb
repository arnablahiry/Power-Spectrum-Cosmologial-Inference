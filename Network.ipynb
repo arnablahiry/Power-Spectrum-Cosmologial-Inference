{
 "cells": [
  {
   "cell_type": "markdown",
   "id": "48a3e659-7c0e-4206-87fc-a64d008e0527",
   "metadata": {},
   "source": [
    "# The Neural Network Architecture"
   ]
  },
  {
   "cell_type": "code",
   "execution_count": null,
   "id": "623f0f88-5c3a-48a9-92d0-395da136c9a5",
   "metadata": {},
   "outputs": [],
   "source": [
    "import numpy as np\n",
    "import torch\n",
    "import torch.nn as nn\n",
    "import torch.nn.functional as F\n",
    "import torch.optim as optim\n",
    "from torch.utils.data import SubsetRandomSampler\n",
    "from torch.utils.data import DataLoader\n",
    "from torch.utils.data import Dataset\n",
    "\n",
    "class Model_Pk(nn.Module):\n",
    "    def __init__(self, params):\n",
    "\n",
    "        super(Model_Pk, self).__init__()\n",
    "\n",
    "        inputs = 45\n",
    "        outputs = 1\n",
    "        hidden = params['hidden']\n",
    "        alpha = params['alpha']\n",
    "\n",
    "        self.F01 = nn.Linear(inputs, hidden)\n",
    "        self.F02 = nn.Linear(hidden, hidden)\n",
    "        \n",
    "        self.F11 = nn.Linear(hidden, hidden)\n",
    "        self.F12 = nn.Linear(hidden, 2*hidden)\n",
    "        \n",
    "        self.F21 = nn.Linear(2*hidden, 2*hidden)\n",
    "        self.F22 = nn.Linear(2*hidden, 4*hidden)\n",
    "        \n",
    "        self.F31 = nn.Linear(4*hidden, 4*hidden)\n",
    "        self.F32 = nn.Linear(4*hidden, 2*hidden)\n",
    "        \n",
    "        self.F41 = nn.Linear(2*hidden, 2*hidden)\n",
    "        self.F42 = nn.Linear(2*hidden, hidden)\n",
    "\n",
    "        self.F51 = nn.Linear(hidden, outputs)\n",
    "        \n",
    "        self.LeakyReLU = nn.LeakyReLU(alpha)\n",
    "        \n",
    "\n",
    "    def forward(self, data):\n",
    "\n",
    "        out = self.LeakyReLU(self.F01(data))\n",
    "        out = self.LeakyReLU(self.F02(out))\n",
    "        out = self.LeakyReLU(self.F11(out))\n",
    "        out = self.LeakyReLU(self.F12(out))\n",
    "        out = self.LeakyReLU(self.F21(out))\n",
    "        out = self.LeakyReLU(self.F22(out))       \n",
    "        out = self.LeakyReLU(self.F31(out))\n",
    "        out = self.LeakyReLU(self.F32(out))\n",
    "        out = self.LeakyReLU(self.F41(out))\n",
    "        out = self.LeakyReLU(self.F42(out))\n",
    "        out = self.LeakyReLU(self.F51(out))\n",
    "\n",
    "        return out"
   ]
  }
 ],
 "metadata": {
  "kernelspec": {
   "display_name": "py_ml_2.0",
   "language": "python",
   "name": "py_ml_2.0"
  },
  "language_info": {
   "codemirror_mode": {
    "name": "ipython",
    "version": 3
   },
   "file_extension": ".py",
   "mimetype": "text/x-python",
   "name": "python",
   "nbconvert_exporter": "python",
   "pygments_lexer": "ipython3",
   "version": "3.9.12"
  }
 },
 "nbformat": 4,
 "nbformat_minor": 5
}
