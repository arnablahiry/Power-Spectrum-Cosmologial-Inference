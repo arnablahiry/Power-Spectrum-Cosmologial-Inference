{
  "cells": [
    {
      "cell_type": "markdown",
      "metadata": {
        "id": "xD_PsGv_EfMa"
      },
      "source": [
        "## Loading the dataset and neural network classes from the respective notebooks using the _ipynb_ package"
      ]
    },
    {
      "cell_type": "code",
      "execution_count": null,
      "metadata": {
        "id": "umLArulWDmC2"
      },
      "outputs": [],
      "source": [
        "from ipynb.fs.full.Dataset import *\n",
        "from ipynb.fs.full.Network import *"
      ]
    },
    {
      "cell_type": "markdown",
      "metadata": {
        "id": "kekZ8T8aEfMj"
      },
      "source": [
        "## Defining the dataset and forming the training and validation DataLoaders"
      ]
    },
    {
      "cell_type": "code",
      "execution_count": null,
      "metadata": {
        "colab": {
          "base_uri": "https://localhost:8080/"
        },
        "id": "WtiJiySCOreo",
        "outputId": "eb72dfd9-34aa-4f7c-924f-475cbc300d32"
      },
      "outputs": [
        {
          "name": "stdout",
          "output_type": "stream",
          "text": [
            "Size of train dataset = 70000\n",
            "Size of validation dataset = 15000\n"
          ]
        }
      ],
      "source": [
        "#defining size of the dataset\n",
        "n = 100000\n",
        "\n",
        "case = 'original'\n",
        "dens_cut_str = None\n",
        "A_true = None\n",
        "mult_factor = 1.0\n",
        "\n",
        "#forming the dataset from the data generating class\n",
        "data_set_train = data_gen(n, 'train', case, dens_cut_str, mult_factor, A_true)\n",
        "train_dl = DataLoader(dataset=data_set_train, batch_size=128, shuffle=True)\n",
        "print('Size of train dataset =', data_set_train.__len__())\n",
        "\n",
        "\n",
        "data_set_valid = data_gen(n, 'valid', case, dens_cut_str, mult_factor, A_true)\n",
        "valid_dl = DataLoader(dataset=data_set_valid, batch_size=128, shuffle=True)\n",
        "print('Size of validation dataset =', data_set_valid.__len__())"
      ]
    },
    {
      "cell_type": "markdown",
      "metadata": {
        "id": "rzHIZ2ypEfMm"
      },
      "source": [
        "## Checking whether this code has GPU access and CUDA support, and if yes, how many GPUs can be used"
      ]
    },
    {
      "cell_type": "code",
      "execution_count": null,
      "metadata": {
        "colab": {
          "base_uri": "https://localhost:8080/"
        },
        "id": "drArP8WASHak",
        "outputId": "6e988692-d76d-44b2-bf18-3b539c2f02b1"
      },
      "outputs": [
        {
          "name": "stdout",
          "output_type": "stream",
          "text": [
            "Using CUDA\n",
            "3 GPUs Available\n",
            "GPU model: Tesla V100-SXM2-32GB\n"
          ]
        }
      ],
      "source": [
        "# use GPUs if available\n",
        "import torch.backends.cudnn as cudnn\n",
        "\n",
        "if torch.cuda.is_available():\n",
        "    print(\"Using CUDA\")\n",
        "    device = torch.device('cuda')\n",
        "else:\n",
        "    print('CUDA Not Available')\n",
        "    device1 = torch.device('cpu')\n",
        "    \n",
        "    \n",
        "cudnn.benchmark = True      #May train faster but cost more memory\n",
        "\n",
        "if (device == torch.device('cuda')):\n",
        "    if torch.cuda.device_count() > 1:\n",
        "        print(\"%d GPUs Available\"%(torch.cuda.device_count()))\n",
        "    print('GPU model:',torch.cuda.get_device_name())\n",
        "\n",
        "else:\n",
        "    print('Using CPU (Cuda unavailable)\\n')\n"
      ]
    },
    {
      "cell_type": "markdown",
      "metadata": {
        "id": "9frIOmNEEfMo"
      },
      "source": [
        "## Defining the location to save the model weights and the _Optuna_ databases, and creating the directory if not already present"
      ]
    },
    {
      "cell_type": "code",
      "execution_count": null,
      "metadata": {
        "id": "qh5-sXtwEfMp",
        "outputId": "4a847178-5cab-4807-c730-02b03451e5ab"
      },
      "outputs": [
        {
          "name": "stdout",
          "output_type": "stream",
          "text": [
            "Folder created: /mnt/ceph/users/alahiry/power_spectra/original\n"
          ]
        }
      ],
      "source": [
        "if case == 'original':\n",
        "    dir_wt = '/mnt/ceph/users/alahiry/power_spectra/{}'.format(case)\n",
        "else:\n",
        "    dir_wt = '/mnt/ceph/users/alahiry/power_spectra/{}/{}'.format(case, dens_cut_str)\n",
        "if not os.path.exists(dir_wt):\n",
        "    os.makedirs(dir_wt)  # create folder if it does not exist\n",
        "    \n",
        "print('Folder created: ' + dir_wt)"
      ]
    },
    {
      "cell_type": "markdown",
      "metadata": {
        "id": "oW0HtAiHEfMu"
      },
      "source": [
        "## Main training and hyperparameter optimisation:\n",
        "\n",
        "### (50 _Optuna_ trials and 200 epochs of training in each trial)"
      ]
    },
    {
      "cell_type": "code",
      "execution_count": null,
      "metadata": {
        "colab": {
          "background_save": true
        },
        "id": "fsQNJzJPSlqH"
      },
      "outputs": [],
      "source": [
        "def fit(params, epochs, model, train_dl, valid_dl, trial):\n",
        "\n",
        "    min_valid_loss = 10**34\n",
        "\n",
        "    lr = params['lr']\n",
        "    wd = params['wd']\n",
        "    \n",
        "    loss_fn = F.mse_loss\n",
        "\n",
        "    optimizer = torch.optim.Adam(model.parameters(), lr = lr, weight_decay = wd)\n",
        "    scheduler = torch.optim.lr_scheduler.CyclicLR(optimizer, base_lr = lr/100, max_lr = lr*100, cycle_momentum=False)\n",
        "\n",
        "    for epoch in range(epochs):  # loop over the dataset multiple times\n",
        "    \n",
        "        #training model\n",
        "        train_loss1 = torch.zeros(1).to(device)\n",
        "        train_loss, counts = 0.0, 0\n",
        "        model.train()\n",
        "        for Pk, A_true in train_dl:\n",
        "            bs = Pk.shape[0]\n",
        "            Pk = Pk.to(device)\n",
        "            A_true = A_true.to(device)\n",
        "            A_nn = model(Pk)\n",
        "            loss = loss_fn(A_nn, A_true)\n",
        "            train_loss1 += loss*bs\n",
        "            counts += bs\n",
        "            optimizer.zero_grad()\n",
        "            loss.backward()\n",
        "            optimizer.step()\n",
        "            scheduler.step()\n",
        "        train_loss = train_loss1/counts\n",
        "        train_loss = torch.mean(train_loss).item()\n",
        "\n",
        "    #evaluating with validation set\n",
        "    valid_loss1 = torch.zeros(1).to(device)\n",
        "    valid_loss, counts = 0.0, 0\n",
        "    model.eval()\n",
        "    for images, labels in valid_dl:\n",
        "        with torch.no_grad():\n",
        "            bs = Pk.shape[0]\n",
        "            Pk = Pk.to(device)\n",
        "            A_true = A_true.to(device)\n",
        "            A_nn = model(Pk)\n",
        "            loss = loss_fn(A_nn, A_true)\n",
        "            valid_loss1 += loss*bs\n",
        "            counts += bs\n",
        "    valid_loss = valid_loss1/counts\n",
        "    valid_loss = torch.mean(valid_loss).item()\n",
        "\n",
        "    \n",
        "    #saving the model if the loss is better(lower) than the previous epoch\n",
        "    if valid_loss < min_valid_loss:\n",
        "        fweights = dir_wt + '/weights_{}.pt'.format(trial.number)  \n",
        "        torch.save(model.state_dict(), fweights)\n",
        "        min_valid_loss = valid_loss\n",
        "   \n",
        "    floss = dir_wt + '/losses_{}.txt'.format(trial.number)  \n",
        "    #saving epoch, training and validation losses to a text file\n",
        "    f = open(floss, 'a')\n",
        "    f.write('%d %.5e %.5e\\n'%(epoch, train_loss, valid_loss))\n",
        "    f.close()\n",
        "\n",
        "    return min_valid_loss\n",
        "\n",
        "\n",
        "def objective(trial):\n",
        "\n",
        "    params = {\n",
        "            'lr': trial.suggest_float(\"lr\", 1e-6, 5e-3, log=True),\n",
        "            'wd': trial.suggest_float('wd', 1e-7, 1e-1, log=True),\n",
        "            'hidden': trial.suggest_int(\"hidden\", 4, 256),\n",
        "            'alpha': trial.suggest_float(\"alpha\", 0.1, 0.9)\n",
        "           }\n",
        "\n",
        "    model = Model_Pk(params)\n",
        "\n",
        "    # use GPUs if available\n",
        "    if torch.cuda.is_available():\n",
        "        device = torch.device('cuda')\n",
        "    else:\n",
        "        device = torch.device('cpu')\n",
        "    cudnn.benchmark = True      #May train faster but cost more memory\n",
        "\n",
        "\n",
        "    if (device == torch.device('cuda')):\n",
        "        if torch.cuda.device_count() > 1:\n",
        "            model = nn.DataParallel(model)\n",
        "        \n",
        "    model.to(device)\n",
        "    \n",
        "    epochs = 200\n",
        "    best_loss = fit(params,epochs, model, train_dl, valid_dl, trial)\n",
        "\n",
        "    return best_loss\n",
        "\n",
        "if case == 'original':\n",
        "    study_name = 'AstroNone_Pk_{}'.format(case)\n",
        "    storage    = 'sqlite:///{}/AstroNone_Pk_{}.db'.format(dir_wt, case)\n",
        "else:\n",
        "    study_name = 'AstroNone_Pk_{}_{}'.format(case, dens_cut_str)\n",
        "    storage    = 'sqlite:///{}/AstroNone_Pk_{}_{}.db'.format(dir_wt, case, dens_cut_str)\n",
        "    \n",
        "start = time.time()\n",
        "\n",
        "study = optuna.create_study(direction = \"minimize\", sampler=optuna.samplers.TPESampler(), study_name = study_name, storage = storage, load_if_exists = True)\n",
        "study.optimize(objective, n_trials = 50)\n",
        "\n",
        "stop = time.time()\n",
        "\n",
        "print('\\nTime taken : {:.4f} hrs:'.format((stop-start)/3600.0))"
      ]
    },
    {
      "cell_type": "markdown",
      "metadata": {
        "id": "tkJfOXhUEfMw"
      },
      "source": [
        "## Checking the best trial parameters"
      ]
    },
    {
      "cell_type": "code",
      "execution_count": null,
      "metadata": {
        "id": "yjQI6UHtwXnY",
        "outputId": "d0e16783-7da5-4ddc-a87e-23895f17a9ad"
      },
      "outputs": [
        {
          "name": "stdout",
          "output_type": "stream",
          "text": [
            "\n",
            "Best model parameters:\n",
            "\n",
            "alpha: 0.13675798557499638\n",
            "hidden: 159\n",
            "lr: 4.102915788654486e-06\n",
            "wd: 1.608970137425372e-07\n",
            "Loss =  0.00011599007848417386\n",
            "\n",
            "Best trial number:  39\n"
          ]
        }
      ],
      "source": [
        "#Location og the optuna database\n",
        "study_name = 'AstroNone_Pk_{}'.format('original')\n",
        "storage    = 'sqlite:///{}/AstroNone_Pk_{}.db'.format(dir_wt, 'original')\n",
        "\n",
        "#loading the study\n",
        "study = optuna.load_study(study_name = study_name, storage = storage)\n",
        "\n",
        "#checking the best trial parameters\n",
        "best_trial = study.best_trial\n",
        "best_trial_num = best_trial.number\n",
        "print('\\nBest model parameters:\\n')\n",
        "for key, value in best_trial.params.items():\n",
        "    print(\"{}: {}\".format(key, value))\n",
        "print('Loss = ', best_trial.value)\n",
        "params_final = best_trial.params\n",
        "print('\\nBest trial number: ', best_trial_num)"
      ]
    }
  ],
  "metadata": {
    "accelerator": "GPU",
    "colab": {
      "machine_shape": "hm",
      "provenance": []
    },
    "gpuClass": "standard",
    "kernelspec": {
      "display_name": "py_ml_2.0",
      "language": "python",
      "name": "py_ml_2.0"
    },
    "language_info": {
      "codemirror_mode": {
        "name": "ipython",
        "version": 3
      },
      "file_extension": ".py",
      "mimetype": "text/x-python",
      "name": "python",
      "nbconvert_exporter": "python",
      "pygments_lexer": "ipython3",
      "version": "3.9.12"
    }
  },
  "nbformat": 4,
  "nbformat_minor": 0
}